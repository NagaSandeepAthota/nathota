{
  "nbformat": 4,
  "nbformat_minor": 0,
  "metadata": {
    "colab": {
      "provenance": [],
      "include_colab_link": true
    },
    "kernelspec": {
      "name": "python3",
      "display_name": "Python 3"
    },
    "language_info": {
      "name": "python"
    }
  },
  "cells": [
    {
      "cell_type": "markdown",
      "metadata": {
        "id": "view-in-github",
        "colab_type": "text"
      },
      "source": [
        "<a href=\"https://colab.research.google.com/github/NagaSandeepAthota/nathota/blob/main/IT7103_assignment5_yourid.ipynb\" target=\"_parent\"><img src=\"https://colab.research.google.com/assets/colab-badge.svg\" alt=\"Open In Colab\"/></a>"
      ]
    },
    {
      "cell_type": "code",
      "execution_count": 1,
      "metadata": {
        "id": "Cts1HLgje_0t"
      },
      "outputs": [],
      "source": [
        "import pandas as pd\n",
        "from sklearn.pipeline import Pipeline\n",
        "from sklearn.impute import SimpleImputer\n",
        "from sklearn.preprocessing import StandardScaler, FunctionTransformer, OneHotEncoder\n",
        "from sklearn.compose import ColumnTransformer\n",
        "import numpy as np\n",
        "from sklearn.model_selection import train_test_split\n",
        "from sklearn.tree import DecisionTreeRegressor\n",
        "from sklearn.ensemble import RandomForestRegressor\n",
        "from sklearn.metrics import mean_squared_error, r2_score"
      ]
    },
    {
      "cell_type": "code",
      "source": [
        "df = pd.read_csv('/content/real_estate_value.csv')"
      ],
      "metadata": {
        "id": "RkiNJ3QxfLP2"
      },
      "execution_count": 2,
      "outputs": []
    },
    {
      "cell_type": "code",
      "source": [
        "df = df.dropna()"
      ],
      "metadata": {
        "id": "8G2s9tIgfLVN"
      },
      "execution_count": 3,
      "outputs": []
    },
    {
      "cell_type": "code",
      "source": [
        "y = df['UnitPrice']\n",
        "x = df.drop('UnitPrice', axis=1)"
      ],
      "metadata": {
        "id": "by8jh6gjfLbN"
      },
      "execution_count": 4,
      "outputs": []
    },
    {
      "cell_type": "code",
      "source": [
        "train_x, test_x, train_y, test_y = train_test_split(x, y, test_size=0.3, random_state=42)"
      ],
      "metadata": {
        "id": "wcrkNGI-fLe9"
      },
      "execution_count": 5,
      "outputs": []
    },
    {
      "cell_type": "code",
      "source": [
        "symmetric_columns = []\n",
        "skewed_columns = []\n",
        "\n",
        "for column in x.columns:\n",
        "    if df[column].skew() > -1 and df[column].skew() < 1:\n",
        "        symmetric_columns.append(column)\n",
        "    else:\n",
        "        skewed_columns.append(column)"
      ],
      "metadata": {
        "id": "JeJfMyS4fLil"
      },
      "execution_count": 6,
      "outputs": []
    },
    {
      "cell_type": "code",
      "source": [
        "print(symmetric_columns)\n",
        "print(skewed_columns)"
      ],
      "metadata": {
        "colab": {
          "base_uri": "https://localhost:8080/"
        },
        "id": "RNp1zkZBfLmd",
        "outputId": "2b8e2427-f0d9-4b1e-90ef-3e04af008205"
      },
      "execution_count": 7,
      "outputs": [
        {
          "output_type": "stream",
          "name": "stdout",
          "text": [
            "['HouseAge', 'NoOfStores', 'Latitude']\n",
            "['DistanceToMRT', 'Longitude']\n"
          ]
        }
      ]
    },
    {
      "cell_type": "code",
      "source": [
        "symmetric_pipeline = Pipeline([\n",
        "  ('imputer', SimpleImputer(strategy='mean')),\n",
        "  ('scaler', StandardScaler())\n",
        "])\n",
        "\n",
        "skewed_pipeline = Pipeline([\n",
        "  ('imputer', SimpleImputer(strategy='mean')),\n",
        "  ('log_transform', FunctionTransformer(np.log1p)),\n",
        "  ('scaler', StandardScaler())\n",
        "])\n",
        "preprocessor = ColumnTransformer([\n",
        "    ('numeric_symmetric', symmetric_pipeline, symmetric_columns),\n",
        "    ('numeric_skewed', skewed_pipeline, skewed_columns),\n",
        "])\n",
        "\n",
        "pipeline = Pipeline([\n",
        "    ('preprocessor', preprocessor)\n",
        "])"
      ],
      "metadata": {
        "id": "q1ACB50qfLov"
      },
      "execution_count": 8,
      "outputs": []
    },
    {
      "cell_type": "code",
      "source": [
        "pipeline.fit(df)\n",
        "train_transformed = pipeline.transform(train_x)\n",
        "test_transformed = pipeline.transform(test_x)"
      ],
      "metadata": {
        "id": "TNWr45RJfLqd"
      },
      "execution_count": 9,
      "outputs": []
    },
    {
      "cell_type": "code",
      "source": [
        "decision_tree = DecisionTreeRegressor(random_state=42)\n",
        "decision_tree.fit(train_transformed, train_y)\n",
        "decision_pred = decision_tree.predict(test_transformed)"
      ],
      "metadata": {
        "id": "-hh2hWlVfLs1"
      },
      "execution_count": 10,
      "outputs": []
    },
    {
      "cell_type": "code",
      "source": [
        "mse_dt = mean_squared_error(test_y, decision_pred)\n",
        "r2_dt = r2_score(test_y, decision_pred)"
      ],
      "metadata": {
        "id": "qGaXk3_yfLuv"
      },
      "execution_count": 11,
      "outputs": []
    },
    {
      "cell_type": "code",
      "source": [
        "random_forest = RandomForestRegressor(random_state=42)\n",
        "random_forest.fit(train_transformed, train_y)\n",
        "random_pred = random_forest.predict(test_transformed)"
      ],
      "metadata": {
        "id": "us-n_g_PfLw2"
      },
      "execution_count": 12,
      "outputs": []
    },
    {
      "cell_type": "code",
      "source": [
        "mse_rf = mean_squared_error(test_y, random_pred)\n",
        "r2_rf = r2_score(test_y, random_pred)"
      ],
      "metadata": {
        "id": "dnSd-SRbfLyu"
      },
      "execution_count": 13,
      "outputs": []
    },
    {
      "cell_type": "code",
      "source": [
        "print(\"Decision Tree Performance\")\n",
        "print(\"Mean Squared Error (MSE):\", mse_dt)\n",
        "print(\"R-squared (R2):\", r2_dt)\n",
        "print(\"\\nRandom Forest Performance\")\n",
        "print(\"Mean Squared Error (MSE):\", mse_rf)\n",
        "print(\"R-squared (R2):\", r2_rf)"
      ],
      "metadata": {
        "colab": {
          "base_uri": "https://localhost:8080/"
        },
        "id": "0lh7ZZigfL02",
        "outputId": "49bc8e57-db21-4d1d-bb30-6d4153ba240f"
      },
      "execution_count": 14,
      "outputs": [
        {
          "output_type": "stream",
          "name": "stdout",
          "text": [
            "Decision Tree Performance\n",
            "Mean Squared Error (MSE): 65.39755999999998\n",
            "R-squared (R2): 0.6089250137675013\n",
            "\n",
            "Random Forest Performance\n",
            "Mean Squared Error (MSE): 43.18817382190911\n",
            "R-squared (R2): 0.7417363203946773\n"
          ]
        }
      ]
    }
  ]
}