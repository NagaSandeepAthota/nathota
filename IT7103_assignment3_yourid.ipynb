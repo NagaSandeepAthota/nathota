{
  "nbformat": 4,
  "nbformat_minor": 0,
  "metadata": {
    "colab": {
      "provenance": [],
      "include_colab_link": true
    },
    "kernelspec": {
      "name": "python3",
      "display_name": "Python 3"
    },
    "language_info": {
      "name": "python"
    }
  },
  "cells": [
    {
      "cell_type": "markdown",
      "metadata": {
        "id": "view-in-github",
        "colab_type": "text"
      },
      "source": [
        "<a href=\"https://colab.research.google.com/github/NagaSandeepAthota/nathota/blob/main/IT7103_assignment3_yourid.ipynb\" target=\"_parent\"><img src=\"https://colab.research.google.com/assets/colab-badge.svg\" alt=\"Open In Colab\"/></a>"
      ]
    },
    {
      "cell_type": "code",
      "execution_count": 12,
      "metadata": {
        "id": "JoyFaaYAiJCd"
      },
      "outputs": [],
      "source": [
        "import pandas as pd\n",
        "from sklearn.model_selection import train_test_split\n",
        "from sklearn.pipeline import Pipeline\n",
        "from sklearn.impute import SimpleImputer\n",
        "from sklearn.preprocessing import StandardScaler, FunctionTransformer, OneHotEncoder\n",
        "from sklearn.compose import ColumnTransformer\n",
        "import numpy as np\n",
        "from sklearn.linear_model import LinearRegression\n",
        "from sklearn.metrics import accuracy_score\n",
        "from sklearn.neighbors import KNeighborsClassifier"
      ]
    },
    {
      "cell_type": "code",
      "source": [
        "df = pd.read_csv(\"/stroke.csv\")"
      ],
      "metadata": {
        "id": "1Mzai-ssidvS"
      },
      "execution_count": 13,
      "outputs": []
    },
    {
      "cell_type": "code",
      "source": [
        "print(df.dtypes)"
      ],
      "metadata": {
        "colab": {
          "base_uri": "https://localhost:8080/"
        },
        "id": "vvtBMHbfidxc",
        "outputId": "a149e4e2-467d-4642-94b2-cbf1d97e64ab"
      },
      "execution_count": 14,
      "outputs": [
        {
          "output_type": "stream",
          "name": "stdout",
          "text": [
            "id                     int64\n",
            "gender                object\n",
            "age                  float64\n",
            "hypertension           int64\n",
            "heart_disease          int64\n",
            "ever_married          object\n",
            "work_type             object\n",
            "Residence_type        object\n",
            "avg_glucose_level    float64\n",
            "bmi                  float64\n",
            "smoking_status        object\n",
            "stroke                 int64\n",
            "dtype: object\n"
          ]
        }
      ]
    },
    {
      "cell_type": "code",
      "source": [
        "df = df.dropna()"
      ],
      "metadata": {
        "id": "m3YLOHXaidy9"
      },
      "execution_count": null,
      "outputs": []
    },
    {
      "cell_type": "code",
      "source": [
        "y = df['stroke']\n",
        "x = df.drop('stroke', axis=1)"
      ],
      "metadata": {
        "id": "uI05xMloid1M"
      },
      "execution_count": null,
      "outputs": []
    },
    {
      "cell_type": "code",
      "source": [
        "train_x, test_x, train_y, test_y = train_test_split(x, y, test_size=0.25, random_state=42)"
      ],
      "metadata": {
        "id": "9ZKwi61aid3J"
      },
      "execution_count": null,
      "outputs": []
    },
    {
      "cell_type": "code",
      "source": [
        "symmetric_cols = ['hypertension', 'heart_disease']\n",
        "skewed_cols = ['id', 'age', 'avg_glucose_level', 'bmi']\n",
        "categorical_cols = ['gender', 'ever_married', 'work_type', 'Residence_type', 'smoking_status']"
      ],
      "metadata": {
        "id": "PlyJaedAid4r"
      },
      "execution_count": null,
      "outputs": []
    },
    {
      "cell_type": "code",
      "source": [
        "from sklearn.pipeline import Pipeline\n",
        "from sklearn.impute import SimpleImputer\n",
        "from sklearn.preprocessing import StandardScaler, FunctionTransformer, OneHotEncoder\n",
        "from sklearn.compose import ColumnTransformer\n",
        "import numpy as np\n",
        "\n",
        "symmetric_pipeline = Pipeline([\n",
        "  ('imputer', SimpleImputer(strategy='mean')),\n",
        "  ('scaler', StandardScaler())\n",
        "])\n",
        "\n",
        "skewed_pipeline = Pipeline([\n",
        "  ('imputer', SimpleImputer(strategy='mean')),\n",
        "  ('log_transform', FunctionTransformer(np.log1p)),\n",
        "  ('scaler', StandardScaler())\n",
        "])\n",
        "\n",
        "categorical_pipeline = Pipeline([\n",
        "  ('encoder', OneHotEncoder())\n",
        "])\n",
        "\n",
        "preprocessor = ColumnTransformer([\n",
        "    ('numeric_symmetric', symmetric_pipeline, symmetric_cols),\n",
        "    ('numeric_skewed', skewed_pipeline, skewed_cols),\n",
        "    ('categorical', categorical_pipeline, categorical_cols)\n",
        "])\n",
        "\n",
        "pipeline = Pipeline([\n",
        "    ('preprocessor', preprocessor)\n",
        "])"
      ],
      "metadata": {
        "id": "WrYlh2-vid6q"
      },
      "execution_count": null,
      "outputs": []
    },
    {
      "cell_type": "code",
      "source": [
        "pipeline.fit(df)\n",
        "train_transformed = pipeline.transform(train_x)\n",
        "test_transformed = pipeline.transform(test_x)"
      ],
      "metadata": {
        "id": "OWqGOwI_id8q"
      },
      "execution_count": null,
      "outputs": []
    },
    {
      "cell_type": "code",
      "source": [
        "linear = LinearRegression()\n",
        "linear.fit(train_transformed, train_y)\n",
        "\n",
        "y_pred = linear.predict(test_transformed)\n",
        "\n",
        "y_other = []\n",
        "for temp in y_pred:\n",
        "  if temp > 0.5:\n",
        "    y_other.append(1)\n",
        "  else:\n",
        "    y_other.append(0)\n",
        "\n",
        "print(f\"Accuracy: {accuracy_score(y_other, test_y) * 100}%\")"
      ],
      "metadata": {
        "colab": {
          "base_uri": "https://localhost:8080/"
        },
        "id": "rurEs00Lid-k",
        "outputId": "2ec1fd37-c894-41c5-8552-2abe10d92919"
      },
      "execution_count": null,
      "outputs": [
        {
          "output_type": "stream",
          "name": "stdout",
          "text": [
            "Accuracy: 94.86970684039088%\n"
          ]
        }
      ]
    },
    {
      "cell_type": "code",
      "source": [
        "model = KNeighborsClassifier(n_neighbors=3)\n",
        "model.fit(train_transformed, train_y)\n",
        "\n",
        "pred_y = model.predict(test_transformed)\n",
        "print(f\"Accuracy of Logistic: {accuracy_score(pred_y, test_y) * 100}%\")"
      ],
      "metadata": {
        "colab": {
          "base_uri": "https://localhost:8080/"
        },
        "id": "QnK8ox2bieAi",
        "outputId": "17816437-d4dd-4e4d-bbf7-df1c50f277b4"
      },
      "execution_count": null,
      "outputs": [
        {
          "output_type": "stream",
          "name": "stdout",
          "text": [
            "Accuracy of Logistic: 94.38110749185668%\n"
          ]
        }
      ]
    }
  ]
}